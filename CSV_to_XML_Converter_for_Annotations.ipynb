{
  "nbformat": 4,
  "nbformat_minor": 0,
  "metadata": {
    "colab": {
      "provenance": [],
      "authorship_tag": "ABX9TyPHGrBYw7aus7SUKjmLM11A",
      "include_colab_link": true
    },
    "kernelspec": {
      "name": "python3",
      "display_name": "Python 3"
    },
    "language_info": {
      "name": "python"
    }
  },
  "cells": [
    {
      "cell_type": "markdown",
      "metadata": {
        "id": "view-in-github",
        "colab_type": "text"
      },
      "source": [
        "<a href=\"https://colab.research.google.com/github/AbhijeetBeedikar/CSV-to-XML-Convertor-for-Annotations/blob/main/CSV_to_XML_Converter_for_Annotations.ipynb\" target=\"_parent\"><img src=\"https://colab.research.google.com/assets/colab-badge.svg\" alt=\"Open In Colab\"/></a>"
      ]
    },
    {
      "cell_type": "code",
      "execution_count": null,
      "metadata": {
        "id": "nHT2mHKrI-f0"
      },
      "outputs": [],
      "source": [
        "def csv_to_xml(image_file_name, input_path, output_path):\n",
        "  '''\n",
        "  REQUIREMENTS:\n",
        "  Image file must contain ['img_name','xmin','ymin','xmax','ymax','category','height','width'] columns\n",
        "  img_name: image name for every annotation\n",
        "  xmin: lower x value of the annotation\n",
        "  ymin: lower y value of the annotation\n",
        "  xmax: upper x value of the annotation\n",
        "  ymax: upper y value of the annotation\n",
        "  category: category/class of the object that has been annotated\n",
        "  height: height of the image\n",
        "  width: width of the image\n",
        "\n",
        "  PARAMS:\n",
        "  image_file_name: specify the name of the csv file containing the annotations\n",
        "  input_path: specify the paht whcih contains the image file\n",
        "  output_path: specify the output path to which the xml annotations will be written to\n",
        "  '''\n",
        "  import os\n",
        "  import pandas as pd\n",
        "  os.chdir(input_path)\n",
        "  b = pd.read_csv(image_file_name)\n",
        "  os.chdir(output_path)\n",
        "  for a in list(b['img_name'].unique()):\n",
        "    d = b.loc[b['img_name']==a].reset_index()\n",
        "    str1 = '''<annotation>\n",
        "      <folder></folder>\n",
        "      <filename>{}</filename>\n",
        "      <path>{}</path>\n",
        "      <source>\n",
        "          <database> Unknown </database>\n",
        "      </source>\n",
        "      <size>\n",
        "          <width>{}</width>\n",
        "          <height>{}</height>\n",
        "          <depth> 3 </depth>\n",
        "      </size>\n",
        "      <segmented> 0 </segemented>'''.format(d['img_name'][0],d['img_name'][0],d['width'][0],d['height'][0])\n",
        "\n",
        "    for c in range(len(d)):\n",
        "      str1 += '''    <object>\n",
        "          <name> {} </name>\n",
        "          <pose> Unspecified </pose>\n",
        "          <truncated> 0 </truncated>\n",
        "          <difficult> 0 </difficult>\n",
        "          <occluded> 0 </occluded>\n",
        "          <bndbox>\n",
        "              <xmin>{}</xmin>\n",
        "              <xmax>{}</xmax>\n",
        "              <ymin>{}</ymin>\n",
        "              <ymax>{}</ymax>\n",
        "          </bndbox>\n",
        "      </object>'''.format(d['category'][c],d['xmin'][c],d['xmax'][c],d['ymin'][c],d['ymax'][c])\n",
        "    b_xml = bytes(str1,'utf-8')\n",
        "    with open(d['img_name'][0]+\".xml\", \"wb\") as f:\n",
        "      f.write(b_xml)"
      ]
    }
  ]
}